{
 "cells": [
  {
   "cell_type": "code",
   "execution_count": 1,
   "id": "c211f5bf-d573-42fb-9ce3-2d0418e333cd",
   "metadata": {},
   "outputs": [
    {
     "name": "stdout",
     "output_type": "stream",
     "text": [
      "hello world\n"
     ]
    }
   ],
   "source": [
    "print(\"hello world\")"
   ]
  },
  {
   "cell_type": "code",
   "execution_count": 3,
   "id": "9109d3fe-d317-4bd6-8e59-d8ba5accb0fc",
   "metadata": {},
   "outputs": [
    {
     "name": "stdout",
     "output_type": "stream",
     "text": [
      "hello Rawan\n"
     ]
    }
   ],
   "source": [
    "name = \"Rawan\"\n",
    "print(\"hello {}\".format(name))"
   ]
  },
  {
   "cell_type": "code",
   "execution_count": 5,
   "id": "8647148a-81cb-48e7-80cb-5ed2c96d011e",
   "metadata": {},
   "outputs": [
    {
     "name": "stdout",
     "output_type": "stream",
     "text": [
      "hello Rawan\n"
     ]
    }
   ],
   "source": [
    "print(\"hello \"+ name)"
   ]
  },
  {
   "cell_type": "code",
   "execution_count": 6,
   "id": "ddd188ae-7e1f-455e-9299-039de9956eb0",
   "metadata": {},
   "outputs": [
    {
     "name": "stdout",
     "output_type": "stream",
     "text": [
      "My number 26\n"
     ]
    }
   ],
   "source": [
    "num = 26 \n",
    "print(\"My number {}\".format(num))"
   ]
  },
  {
   "cell_type": "code",
   "execution_count": 8,
   "id": "2296bab6-11ad-472e-a3ff-c467b7101937",
   "metadata": {},
   "outputs": [
    {
     "name": "stdout",
     "output_type": "stream",
     "text": [
      "My number 26\n"
     ]
    }
   ],
   "source": [
    "print(\"My number \"+str(num))"
   ]
  },
  {
   "cell_type": "code",
   "execution_count": 9,
   "id": "ec72978e-7f1b-4273-93ef-e620f064338c",
   "metadata": {},
   "outputs": [
    {
     "name": "stdout",
     "output_type": "stream",
     "text": [
      " i love eat burger and frinsg frise \n"
     ]
    }
   ],
   "source": [
    "fav_food=\"burger\"\n",
    "fav_food2=\"frinsg frise\"\n",
    "print(\" i love eat {} and {} \".format(fav_food,fav_food2))"
   ]
  },
  {
   "cell_type": "code",
   "execution_count": 10,
   "id": "21eea831-9cc1-483f-9077-40ff2163a549",
   "metadata": {},
   "outputs": [
    {
     "name": "stdout",
     "output_type": "stream",
     "text": [
      " i love eat burger and frinsg frise \n"
     ]
    }
   ],
   "source": [
    "print(f\" i love eat {fav_food} and {fav_food2} \")"
   ]
  },
  {
   "cell_type": "code",
   "execution_count": null,
   "id": "ca7fa2c3-8a15-4898-945b-a028541d5531",
   "metadata": {},
   "outputs": [],
   "source": []
  }
 ],
 "metadata": {
  "kernelspec": {
   "display_name": "Python 3",
   "language": "python",
   "name": "python3"
  },
  "language_info": {
   "codemirror_mode": {
    "name": "ipython",
    "version": 3
   },
   "file_extension": ".py",
   "mimetype": "text/x-python",
   "name": "python",
   "nbconvert_exporter": "python",
   "pygments_lexer": "ipython3",
   "version": "3.8.8"
  }
 },
 "nbformat": 4,
 "nbformat_minor": 5
}
